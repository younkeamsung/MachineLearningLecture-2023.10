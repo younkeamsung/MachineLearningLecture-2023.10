{
 "cells": [
  {
   "cell_type": "code",
   "execution_count": 1,
   "metadata": {},
   "outputs": [],
   "source": [
    "import requests, time\n",
    "import pandas as pd\n",
    "from bs4 import BeautifulSoup\n",
    "from selenium import webdriver"
   ]
  },
  {
   "cell_type": "code",
   "execution_count": 2,
   "metadata": {},
   "outputs": [],
   "source": [
    "url = 'https://housing.seoul.go.kr/site/main/polcyManageInfo/customized/list?cp=1&trgterSearch=T_4'\n",
    "res = requests.get(url)\n",
    "soup = BeautifulSoup(res.text, 'html.parser')\n",
    "# cp= ? < 페이지값"
   ]
  },
  {
   "cell_type": "code",
   "execution_count": 3,
   "metadata": {},
   "outputs": [
    {
     "data": {
      "text/plain": [
       "10"
      ]
     },
     "execution_count": 3,
     "metadata": {},
     "output_type": "execute_result"
    }
   ],
   "source": [
    "lis = soup.select('.sr-list > li')\n",
    "len(lis)"
   ]
  },
  {
   "cell_type": "code",
   "execution_count": 4,
   "metadata": {},
   "outputs": [
    {
     "name": "stderr",
     "output_type": "stream",
     "text": [
      "The chromedriver version (117.0.5938.88) detected in PATH at C:\\Users\\human\\Downloads\\chromedriver.exe might not be compatible with the detected chrome version (118.0.5993.71); currently, chromedriver 118.0.5993.70 is recommended for chrome 118.*, so it is advised to delete the driver in PATH and retry\n"
     ]
    }
   ],
   "source": [
    "driver = webdriver.Chrome()\n",
    "driver.get(url)"
   ]
  },
  {
   "cell_type": "code",
   "execution_count": 5,
   "metadata": {},
   "outputs": [
    {
     "data": {
      "text/plain": [
       "10"
      ]
     },
     "execution_count": 5,
     "metadata": {},
     "output_type": "execute_result"
    }
   ],
   "source": [
    "soup = BeautifulSoup(driver.page_source, 'html.parser')\n",
    "lis = soup.select('.sr-list > li')\n",
    "len(lis)"
   ]
  },
  {
   "cell_type": "code",
   "execution_count": 10,
   "metadata": {},
   "outputs": [],
   "source": [
    "data = []\n",
    "li = lis[0]\n",
    "title = li.select_one('.srl-left > .art-tit').get_text().strip()\n",
    "detail = li.select_one('.srl-left > .art-descrip').get_text().strip()\n",
    "link = li.select_one('.srl-right > a')['href']\n",
    "data.append({'제목':title, '내용':detail, '링크':link})"
   ]
  },
  {
   "cell_type": "code",
   "execution_count": 11,
   "metadata": {},
   "outputs": [
    {
     "data": {
      "text/html": [
       "<div>\n",
       "<style scoped>\n",
       "    .dataframe tbody tr th:only-of-type {\n",
       "        vertical-align: middle;\n",
       "    }\n",
       "\n",
       "    .dataframe tbody tr th {\n",
       "        vertical-align: top;\n",
       "    }\n",
       "\n",
       "    .dataframe thead th {\n",
       "        text-align: right;\n",
       "    }\n",
       "</style>\n",
       "<table border=\"1\" class=\"dataframe\">\n",
       "  <thead>\n",
       "    <tr style=\"text-align: right;\">\n",
       "      <th></th>\n",
       "      <th>제목</th>\n",
       "      <th>내용</th>\n",
       "      <th>링크</th>\n",
       "    </tr>\n",
       "  </thead>\n",
       "  <tbody>\n",
       "    <tr>\n",
       "      <th>0</th>\n",
       "      <td>청년임차보증금 이자지원</td>\n",
       "      <td>목돈 마련이 어려운 근로청년 및 취업준비생의 소득대비 높은 주거비용 부담경감을 위해...</td>\n",
       "      <td>https://housing.seoul.go.kr/site/main/content/...</td>\n",
       "    </tr>\n",
       "  </tbody>\n",
       "</table>\n",
       "</div>"
      ],
      "text/plain": [
       "             제목                                                 내용  \\\n",
       "0  청년임차보증금 이자지원  목돈 마련이 어려운 근로청년 및 취업준비생의 소득대비 높은 주거비용 부담경감을 위해...   \n",
       "\n",
       "                                                  링크  \n",
       "0  https://housing.seoul.go.kr/site/main/content/...  "
      ]
     },
     "execution_count": 11,
     "metadata": {},
     "output_type": "execute_result"
    }
   ],
   "source": [
    "df = pd.DataFrame(data)\n",
    "df"
   ]
  },
  {
   "cell_type": "code",
   "execution_count": 48,
   "metadata": {},
   "outputs": [
    {
     "name": "stderr",
     "output_type": "stream",
     "text": [
      "The chromedriver version (117.0.5938.88) detected in PATH at C:\\Users\\human\\Downloads\\chromedriver.exe might not be compatible with the detected chrome version (118.0.5993.71); currently, chromedriver 118.0.5993.70 is recommended for chrome 118.*, so it is advised to delete the driver in PATH and retry\n",
      "The chromedriver version (117.0.5938.88) detected in PATH at C:\\Users\\human\\Downloads\\chromedriver.exe might not be compatible with the detected chrome version (118.0.5993.71); currently, chromedriver 118.0.5993.70 is recommended for chrome 118.*, so it is advised to delete the driver in PATH and retry\n",
      "The chromedriver version (117.0.5938.88) detected in PATH at C:\\Users\\human\\Downloads\\chromedriver.exe might not be compatible with the detected chrome version (118.0.5993.71); currently, chromedriver 118.0.5993.70 is recommended for chrome 118.*, so it is advised to delete the driver in PATH and retry\n"
     ]
    }
   ],
   "source": [
    "last = []\n",
    "for cp in range(1, 4):\n",
    "    url = f'https://housing.seoul.go.kr/site/main/polcyManageInfo/customized/list?cp={cp}&trgterSearch=T_4'\n",
    "    res = requests.get(url)\n",
    "    soup = BeautifulSoup(res.text, 'html.parser')  \n",
    "    driver = webdriver.Chrome()\n",
    "    driver.get(url)\n",
    "    soup = BeautifulSoup(driver.page_source, 'html.parser')\n",
    "    lis = soup.select('.sr-list > li')\n",
    "    time.sleep(2)\n",
    "\n",
    "    \n",
    "    for li in lis:\n",
    "        data = []\n",
    "        user = li.select_one('.srl-left > .art-descrip').get_text().strip()\n",
    "        detail = li.select_one('.srl-left > .art-tit').get_text().strip()\n",
    "        link = li.select_one('.srl-right > a')['href']\n",
    "        data.append(detail)\n",
    "        data.append(link)\n",
    "        data = \".\\n바로가기링크:\".join(data)\n",
    "        last.append({'구분':'정책', '유저':user, '내용':data})\n",
    "    driver.back()\n",
    "driver.close()"
   ]
  },
  {
   "cell_type": "code",
   "execution_count": 49,
   "metadata": {},
   "outputs": [
    {
     "name": "stdout",
     "output_type": "stream",
     "text": [
      "에너지 이용 효율을 높이고 온실가스를 감축하기 위해 건물 단열공사, LED 조명교체, 고효율 보일러 교체 등의 에너지 절약 설비 설치 시 시민들의 경제 부담을 완화시키기 위해 장기·무이자로 융자를 지원해주는 사업 입니다.\n",
      "건물 에너지 효율화 사업 융자지원.\n",
      "바로가기링크:https://housing.seoul.go.kr/site/main/content/sh01_070902\n"
     ]
    }
   ],
   "source": [
    "df = pd.DataFrame(last)\n",
    "print(df.유저[1])\n",
    "print(df.내용[1])"
   ]
  },
  {
   "cell_type": "code",
   "execution_count": 51,
   "metadata": {},
   "outputs": [],
   "source": [
    "df.to_csv('data/부동산정책data.csv', index=False)"
   ]
  },
  {
   "cell_type": "code",
   "execution_count": 55,
   "metadata": {},
   "outputs": [
    {
     "name": "stdout",
     "output_type": "stream",
     "text": [
      "건물 에너지 효율화 사업 융자지원.\n",
      "바로가기링크:https://housing.seoul.go.kr/site/main/content/sh01_070902\n"
     ]
    }
   ],
   "source": [
    "df = pd.read_csv('data/부동산정책data.csv')\n",
    "filtered_df = df[df['유저'] == '에너지 이용 효율을 높이고 온실가스를 감축하기 위해 건물 단열공사, LED 조명교체, 고효율 보일러 교체 등의 에너지 절약 설비 설치 시 시민들의 경제 부담을 완화시키기 위해 장기·무이자로 융자를 지원해주는 사업 입니다.']\n",
    "result = filtered_df['내용'].tolist()\n",
    "result = \"\".join(result)\n",
    "print(result)"
   ]
  },
  {
   "cell_type": "code",
   "execution_count": null,
   "metadata": {},
   "outputs": [],
   "source": []
  }
 ],
 "metadata": {
  "kernelspec": {
   "display_name": "base",
   "language": "python",
   "name": "python3"
  },
  "language_info": {
   "codemirror_mode": {
    "name": "ipython",
    "version": 3
   },
   "file_extension": ".py",
   "mimetype": "text/x-python",
   "name": "python",
   "nbconvert_exporter": "python",
   "pygments_lexer": "ipython3",
   "version": "3.11.4"
  }
 },
 "nbformat": 4,
 "nbformat_minor": 2
}
